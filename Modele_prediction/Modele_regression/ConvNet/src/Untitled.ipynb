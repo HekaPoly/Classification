{
 "cells": [
  {
   "cell_type": "code",
   "execution_count": 2,
   "id": "08bf03cc",
   "metadata": {},
   "outputs": [
    {
     "ename": "ModuleNotFoundError",
     "evalue": "No module named 'tensorflow'",
     "output_type": "error",
     "traceback": [
      "\u001b[0;31m---------------------------------------------------------------------------\u001b[0m",
      "\u001b[0;31mModuleNotFoundError\u001b[0m                       Traceback (most recent call last)",
      "\u001b[0;32m<ipython-input-2-793885aa0e39>\u001b[0m in \u001b[0;36m<module>\u001b[0;34m\u001b[0m\n\u001b[1;32m      1\u001b[0m \u001b[0;32mimport\u001b[0m \u001b[0mnumpy\u001b[0m \u001b[0;32mas\u001b[0m \u001b[0mnp\u001b[0m\u001b[0;34m\u001b[0m\u001b[0;34m\u001b[0m\u001b[0m\n\u001b[0;32m----> 2\u001b[0;31m \u001b[0;32mimport\u001b[0m \u001b[0mtensorflow\u001b[0m \u001b[0;32mas\u001b[0m \u001b[0mtf\u001b[0m\u001b[0;34m\u001b[0m\u001b[0;34m\u001b[0m\u001b[0m\n\u001b[0m\u001b[1;32m      3\u001b[0m \u001b[0;32mimport\u001b[0m \u001b[0mkeras\u001b[0m\u001b[0;34m\u001b[0m\u001b[0;34m\u001b[0m\u001b[0m\n\u001b[1;32m      4\u001b[0m \u001b[0;34m\u001b[0m\u001b[0m\n\u001b[1;32m      5\u001b[0m \u001b[0;32mfrom\u001b[0m \u001b[0mkeras\u001b[0m\u001b[0;34m.\u001b[0m\u001b[0mmodels\u001b[0m \u001b[0;32mimport\u001b[0m \u001b[0mSequential\u001b[0m\u001b[0;34m,\u001b[0m \u001b[0mModel\u001b[0m\u001b[0;34m\u001b[0m\u001b[0;34m\u001b[0m\u001b[0m\n",
      "\u001b[0;31mModuleNotFoundError\u001b[0m: No module named 'tensorflow'"
     ]
    }
   ],
   "source": [
    "import numpy as np\n",
    "import tensorflow as tf\n",
    "import keras\n",
    "\n",
    "from keras.models import Sequential, Model\n",
    "from keras.layers import Dense, Dropout, Conv1D, Flatten, BatchNormalization\n",
    "from keras.layers import MaxPooling1D\n",
    "from sklearn.metrics import classification_report, confusion_matrix\n",
    "\n",
    "########################################\n",
    "config = tf.compat.v1.ConfigProto()    #\n",
    "config.gpu_options.allow_growth = True #\n",
    "tf.compat.v1.Session(config=config)    #\n",
    "########################################\n",
    "\n",
    "class ModelConv(object):\n",
    "    def __init__(self, n_angles, n_electrodes, n_timesteps):\n",
    "        self.model = self._create_model(n_angles, n_electrodes, n_timesteps)\n",
    "        \n",
    "    def _create_model(self, n_angles, n_electrodes, n_timesteps):\n",
    "        model = Sequential(name=\"conv_angle_v1\")\n",
    "        #model.add(tf.keras.layers.GaussianNoise(0.1))\n",
    "\n",
    "        model.add(Conv1D(64, 6, activation='linear', input_shape=(n_timesteps, n_electrodes)))\n",
    "        model.add(MaxPooling1D())\n",
    "        model.add(BatchNormalization())\n",
    "\n",
    "        model.add(Conv1D(64, 4, activation='linear'))\n",
    "        model.add(MaxPooling1D())\n",
    "        model.add(BatchNormalization())\n",
    "        \n",
    "        model.add(Conv1D(64, 3, activation='linear'))\n",
    "        model.add(MaxPooling1D())\n",
    "        model.add(BatchNormalization())\n",
    "        \n",
    "        model.add(Flatten())\n",
    "        model.add(Dense(100, activation='relu'))\n",
    "        model.add(Dense(n_angles))\n",
    "        model.compile(loss='mse', optimizer='adam', metrics=['mae'])\n",
    "        return model\n",
    "\n",
    "    def train(self, trainX, trainY, testX, testY, n_epochs, batch_size):\n",
    "        self.model.fit(trainX, \n",
    "                       trainY, \n",
    "                       validation_data=(testX, testY), \n",
    "                       epochs=n_epochs, \n",
    "                       batch_size=batch_size,\n",
    "                       shuffle=True)\n",
    "\n",
    "    def predict(self, x):\n",
    "        return self.model.predict(x)\n",
    "\n",
    "    def evaluate(self, testX, testY):\n",
    "        _, accuracy = self.model.evaluate(testX, testY, verbose=1)\n",
    "        \n",
    "        print('Accuracy: %.2f' % (accuracy*100))\n",
    "        \n",
    "        y_pred = self.predict(testX)\n",
    "        y_pred = np.argmax(y_pred, axis=1)\n",
    "        y_test = np.argmax(testY, axis=1)\n",
    "        \n",
    "        print(confusion_matrix(y_pred, y_test))\n",
    "        print(classification_report(y_test, y_pred))\n",
    "\n",
    "\n",
    "    def load(self, path):\n",
    "        self.model = keras.models.load_model(path)\n",
    "\n",
    "    def save(self, path):\n",
    "        self.model.save(path)\n",
    "\n",
    "if __name__==\"__main__\":\n",
    "    model = ModelConv(1,2,60)\n",
    "    model.model.summary()"
   ]
  },
  {
   "cell_type": "code",
   "execution_count": null,
   "id": "46050b42",
   "metadata": {},
   "outputs": [],
   "source": []
  }
 ],
 "metadata": {
  "kernelspec": {
   "display_name": "Python 3",
   "language": "python",
   "name": "python3"
  },
  "language_info": {
   "codemirror_mode": {
    "name": "ipython",
    "version": 3
   },
   "file_extension": ".py",
   "mimetype": "text/x-python",
   "name": "python",
   "nbconvert_exporter": "python",
   "pygments_lexer": "ipython3",
   "version": "3.8.8"
  }
 },
 "nbformat": 4,
 "nbformat_minor": 5
}
